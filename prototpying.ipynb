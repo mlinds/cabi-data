{
 "cells": [
  {
   "cell_type": "markdown",
   "source": [
    "# protyping of basic functions\r\n",
    "\r\n",
    "## to read the csv files we need a function that takes a cabi csv trip data file and returns a dataframe with the data"
   ],
   "metadata": {}
  },
  {
   "cell_type": "code",
   "execution_count": 1,
   "source": [
    "import pandas as pd\n",
    "import geopandas as gpd\n",
    "from os import listdir\n",
    "import networkx as nx\n",
    "import matplotlib.pyplot as plt\n",
    "import osmnx\n",
    "from shapely.geometry import Point,LineString\n",
    "from cabi_functions import return_trip_datatable"
   ],
   "outputs": [],
   "metadata": {}
  },
  {
   "cell_type": "code",
   "execution_count": 2,
   "source": [
    "def load_stations_all():\n",
    "    df = pd.read_json('https://gbfs.capitalbikeshare.com/gbfs/en/station_information.json')\n",
    "    datalist = df.iloc[0,0]\n",
    "    df = pd.DataFrame(datalist)\n",
    "    df.rename({'short_name':'NAME'},inplace=True)\n",
    "    stations = df\n",
    "    geometry = [Point(xy) for xy in zip(stations.lat,stations.lon)]\n",
    "    gdf = gpd.GeoDataFrame(stations,crs=\"EPSG:4326\", geometry=geometry)\n",
    "    return gdf"
   ],
   "outputs": [],
   "metadata": {}
  },
  {
   "cell_type": "code",
   "execution_count": 3,
   "source": [
    "def load_stations():\n",
    "    df = pd.read_json('https://gbfs.capitalbikeshare.com/gbfs/en/station_information.json')\n",
    "    datalist = df.iloc[0,0]\n",
    "    df = pd.DataFrame(datalist)\n",
    "    df.rename({'short_name':'NAME'},inplace=True)\n",
    "    stations = df.loc[:,['lon','lat','short_name']]\n",
    "    geometry = [Point(xy) for xy in zip(stations.lat,stations.lon)]\n",
    "    gdf = gpd.GeoDataFrame(stations,crs=\"EPSG:4326\", geometry=geometry)\n",
    "    return gdf"
   ],
   "outputs": [],
   "metadata": {}
  },
  {
   "cell_type": "code",
   "execution_count": 205,
   "source": [
    "a"
   ],
   "outputs": [
    {
     "output_type": "execute_result",
     "data": {
      "text/html": [
       "<div>\n",
       "<style scoped>\n",
       "    .dataframe tbody tr th:only-of-type {\n",
       "        vertical-align: middle;\n",
       "    }\n",
       "\n",
       "    .dataframe tbody tr th {\n",
       "        vertical-align: top;\n",
       "    }\n",
       "\n",
       "    .dataframe thead th {\n",
       "        text-align: right;\n",
       "    }\n",
       "</style>\n",
       "<table border=\"1\" class=\"dataframe\">\n",
       "  <thead>\n",
       "    <tr style=\"text-align: right;\">\n",
       "      <th></th>\n",
       "      <th>lon</th>\n",
       "      <th>lat</th>\n",
       "      <th>short_name</th>\n",
       "      <th>geometry</th>\n",
       "    </tr>\n",
       "  </thead>\n",
       "  <tbody>\n",
       "    <tr>\n",
       "      <th>0</th>\n",
       "      <td>-77.053230</td>\n",
       "      <td>38.858971</td>\n",
       "      <td>31000</td>\n",
       "      <td>POINT (38.85897 -77.05323)</td>\n",
       "    </tr>\n",
       "    <tr>\n",
       "      <th>1</th>\n",
       "      <td>-77.049232</td>\n",
       "      <td>38.856425</td>\n",
       "      <td>31002</td>\n",
       "      <td>POINT (38.85643 -77.04923)</td>\n",
       "    </tr>\n",
       "    <tr>\n",
       "      <th>2</th>\n",
       "      <td>-77.049417</td>\n",
       "      <td>38.861056</td>\n",
       "      <td>31003</td>\n",
       "      <td>POINT (38.86106 -77.04942)</td>\n",
       "    </tr>\n",
       "    <tr>\n",
       "      <th>3</th>\n",
       "      <td>-77.059490</td>\n",
       "      <td>38.857866</td>\n",
       "      <td>31004</td>\n",
       "      <td>POINT (38.85787 -77.05949)</td>\n",
       "    </tr>\n",
       "    <tr>\n",
       "      <th>4</th>\n",
       "      <td>-77.059936</td>\n",
       "      <td>38.862303</td>\n",
       "      <td>31005</td>\n",
       "      <td>POINT (38.86230 -77.05994)</td>\n",
       "    </tr>\n",
       "    <tr>\n",
       "      <th>...</th>\n",
       "      <td>...</td>\n",
       "      <td>...</td>\n",
       "      <td>...</td>\n",
       "      <td>...</td>\n",
       "    </tr>\n",
       "    <tr>\n",
       "      <th>648</th>\n",
       "      <td>-77.116339</td>\n",
       "      <td>38.857049</td>\n",
       "      <td>31951</td>\n",
       "      <td>POINT (38.85705 -77.11634)</td>\n",
       "    </tr>\n",
       "    <tr>\n",
       "      <th>649</th>\n",
       "      <td>-76.996023</td>\n",
       "      <td>38.922404</td>\n",
       "      <td>31531</td>\n",
       "      <td>POINT (38.92240 -76.99602)</td>\n",
       "    </tr>\n",
       "    <tr>\n",
       "      <th>650</th>\n",
       "      <td>-77.105564</td>\n",
       "      <td>38.818509</td>\n",
       "      <td>31952</td>\n",
       "      <td>POINT (38.81851 -77.10556)</td>\n",
       "    </tr>\n",
       "    <tr>\n",
       "      <th>651</th>\n",
       "      <td>-77.222808</td>\n",
       "      <td>38.878601</td>\n",
       "      <td>32255</td>\n",
       "      <td>POINT (38.87860 -77.22281)</td>\n",
       "    </tr>\n",
       "    <tr>\n",
       "      <th>652</th>\n",
       "      <td>-77.341823</td>\n",
       "      <td>38.983199</td>\n",
       "      <td>32256</td>\n",
       "      <td>POINT (38.98320 -77.34182)</td>\n",
       "    </tr>\n",
       "  </tbody>\n",
       "</table>\n",
       "<p>653 rows × 4 columns</p>\n",
       "</div>"
      ],
      "text/plain": [
       "           lon        lat short_name                    geometry\n",
       "0   -77.053230  38.858971      31000  POINT (38.85897 -77.05323)\n",
       "1   -77.049232  38.856425      31002  POINT (38.85643 -77.04923)\n",
       "2   -77.049417  38.861056      31003  POINT (38.86106 -77.04942)\n",
       "3   -77.059490  38.857866      31004  POINT (38.85787 -77.05949)\n",
       "4   -77.059936  38.862303      31005  POINT (38.86230 -77.05994)\n",
       "..         ...        ...        ...                         ...\n",
       "648 -77.116339  38.857049      31951  POINT (38.85705 -77.11634)\n",
       "649 -76.996023  38.922404      31531  POINT (38.92240 -76.99602)\n",
       "650 -77.105564  38.818509      31952  POINT (38.81851 -77.10556)\n",
       "651 -77.222808  38.878601      32255  POINT (38.87860 -77.22281)\n",
       "652 -77.341823  38.983199      32256  POINT (38.98320 -77.34182)\n",
       "\n",
       "[653 rows x 4 columns]"
      ]
     },
     "metadata": {},
     "execution_count": 205
    }
   ],
   "metadata": {}
  },
  {
   "cell_type": "code",
   "execution_count": 206,
   "source": [
    "def find_station_geo(stationnum):\n",
    "    matched = a[a.short_name==stationnum]\n",
    "    try:\n",
    "        latval = matched.lat\n",
    "        lonval = matched.lon\n",
    "        return (lonval,latval)\n",
    "    except:\n",
    "        return None\n",
    "\n",
    "def make_edge_geometry(start_station_num,end_station_num):\n",
    "    start_point = find_station_geo(start_station_num)\n",
    "    end_point = find_station_geo(end_station_num)\n",
    "    try:\n",
    "        return LineString((start_point,end_point))\n",
    "    except: return pd.NA"
   ],
   "outputs": [],
   "metadata": {}
  },
  {
   "cell_type": "code",
   "execution_count": null,
   "source": [],
   "outputs": [],
   "metadata": {}
  },
  {
   "cell_type": "markdown",
   "source": [
    "## using the previously defined external functions we load a pandas dataframe of all 28million cabi trips"
   ],
   "metadata": {}
  },
  {
   "cell_type": "code",
   "execution_count": 5,
   "source": [
    "station_gdf = load_stations()\n",
    "# we need a non geopandas verion of this table to avoid a performance penalty due to calls to \n",
    "a = pd.DataFrame(station_gdf) \n",
    "%time data = return_trip_datatable()"
   ],
   "outputs": [
    {
     "output_type": "stream",
     "name": "stdout",
     "text": [
      "Wall time: 1min 18s\n"
     ]
    }
   ],
   "metadata": {}
  },
  {
   "cell_type": "code",
   "execution_count": 6,
   "source": [
    "data.dtypes"
   ],
   "outputs": [
    {
     "output_type": "execute_result",
     "data": {
      "text/plain": [
       "started_at          datetime64[ns]\n",
       "ended_at            datetime64[ns]\n",
       "start_station_id           float64\n",
       "end_station_id             float64\n",
       "member_casual               object\n",
       "dtype: object"
      ]
     },
     "metadata": {},
     "execution_count": 6
    }
   ],
   "metadata": {}
  },
  {
   "cell_type": "code",
   "execution_count": 7,
   "source": [
    "reindex = data.set_index(['start_station_id','end_station_id'])"
   ],
   "outputs": [],
   "metadata": {}
  },
  {
   "cell_type": "code",
   "execution_count": null,
   "source": [],
   "outputs": [],
   "metadata": {}
  },
  {
   "cell_type": "code",
   "execution_count": 8,
   "source": [
    "print(data.dtypes)\n",
    "data.convert_dtypes\n",
    "print(data.dtypes)"
   ],
   "outputs": [
    {
     "output_type": "stream",
     "name": "stdout",
     "text": [
      "started_at          datetime64[ns]\n",
      "ended_at            datetime64[ns]\n",
      "start_station_id           float64\n",
      "end_station_id             float64\n",
      "member_casual               object\n",
      "dtype: object\n",
      "started_at          datetime64[ns]\n",
      "ended_at            datetime64[ns]\n",
      "start_station_id           float64\n",
      "end_station_id             float64\n",
      "member_casual               object\n",
      "dtype: object\n"
     ]
    }
   ],
   "metadata": {}
  },
  {
   "cell_type": "code",
   "execution_count": 9,
   "source": [
    "triptime = data.ended_at-data.started_at\n",
    "data = data.assign(triptime=triptime)\n"
   ],
   "outputs": [],
   "metadata": {}
  },
  {
   "cell_type": "code",
   "execution_count": 10,
   "source": [
    "data.set_index('started_at').resample('2W').count().ended_at.plot()"
   ],
   "outputs": [
    {
     "output_type": "execute_result",
     "data": {
      "text/plain": [
       "<AxesSubplot:xlabel='started_at'>"
      ]
     },
     "metadata": {},
     "execution_count": 10
    },
    {
     "output_type": "display_data",
     "data": {
      "image/png": "[encoded data removed]",
      "text/plain": [
       "<Figure size 432x288 with 1 Axes>"
      ]
     },
     "metadata": {
      "needs_background": "light"
     }
    }
   ],
   "metadata": {}
  },
  {
   "cell_type": "code",
   "execution_count": 11,
   "source": [
    "start_end_data = data.loc[:,['start_station_id','end_station_id']].dropna()"
   ],
   "outputs": [],
   "metadata": {}
  },
  {
   "cell_type": "code",
   "execution_count": 12,
   "source": [
    "route_counts = start_end_data.value_counts()\n",
    "df_route_counts = pd.DataFrame(route_counts)\n",
    "df_route_counts = df_route_counts.reset_index().convert_dtypes()\n",
    "df_route_counts.columns = ['startid','endid','popularity']\n",
    "popular_routes = df_route_counts[df_route_counts.popularity>0]\n",
    "popular_routes"
   ],
   "outputs": [
    {
     "output_type": "execute_result",
     "data": {
      "text/html": [
       "<div>\n",
       "<style scoped>\n",
       "    .dataframe tbody tr th:only-of-type {\n",
       "        vertical-align: middle;\n",
       "    }\n",
       "\n",
       "    .dataframe tbody tr th {\n",
       "        vertical-align: top;\n",
       "    }\n",
       "\n",
       "    .dataframe thead th {\n",
       "        text-align: right;\n",
       "    }\n",
       "</style>\n",
       "<table border=\"1\" class=\"dataframe\">\n",
       "  <thead>\n",
       "    <tr style=\"text-align: right;\">\n",
       "      <th></th>\n",
       "      <th>startid</th>\n",
       "      <th>endid</th>\n",
       "      <th>popularity</th>\n",
       "    </tr>\n",
       "  </thead>\n",
       "  <tbody>\n",
       "    <tr>\n",
       "      <th>0</th>\n",
       "      <td>31247</td>\n",
       "      <td>31247</td>\n",
       "      <td>51689</td>\n",
       "    </tr>\n",
       "    <tr>\n",
       "      <th>1</th>\n",
       "      <td>31248</td>\n",
       "      <td>31248</td>\n",
       "      <td>44516</td>\n",
       "    </tr>\n",
       "    <tr>\n",
       "      <th>2</th>\n",
       "      <td>31258</td>\n",
       "      <td>31249</td>\n",
       "      <td>43765</td>\n",
       "    </tr>\n",
       "    <tr>\n",
       "      <th>3</th>\n",
       "      <td>31247</td>\n",
       "      <td>31258</td>\n",
       "      <td>40379</td>\n",
       "    </tr>\n",
       "    <tr>\n",
       "      <th>4</th>\n",
       "      <td>31258</td>\n",
       "      <td>31247</td>\n",
       "      <td>36279</td>\n",
       "    </tr>\n",
       "    <tr>\n",
       "      <th>...</th>\n",
       "      <td>...</td>\n",
       "      <td>...</td>\n",
       "      <td>...</td>\n",
       "    </tr>\n",
       "    <tr>\n",
       "      <th>139152</th>\n",
       "      <td>31901</td>\n",
       "      <td>31303</td>\n",
       "      <td>1</td>\n",
       "    </tr>\n",
       "    <tr>\n",
       "      <th>139153</th>\n",
       "      <td>31600</td>\n",
       "      <td>32040</td>\n",
       "      <td>1</td>\n",
       "    </tr>\n",
       "    <tr>\n",
       "      <th>139154</th>\n",
       "      <td>31901</td>\n",
       "      <td>31290</td>\n",
       "      <td>1</td>\n",
       "    </tr>\n",
       "    <tr>\n",
       "      <th>139155</th>\n",
       "      <td>31600</td>\n",
       "      <td>32048</td>\n",
       "      <td>1</td>\n",
       "    </tr>\n",
       "    <tr>\n",
       "      <th>139156</th>\n",
       "      <td>31324</td>\n",
       "      <td>31133</td>\n",
       "      <td>1</td>\n",
       "    </tr>\n",
       "  </tbody>\n",
       "</table>\n",
       "<p>139157 rows × 3 columns</p>\n",
       "</div>"
      ],
      "text/plain": [
       "        startid  endid  popularity\n",
       "0         31247  31247       51689\n",
       "1         31248  31248       44516\n",
       "2         31258  31249       43765\n",
       "3         31247  31258       40379\n",
       "4         31258  31247       36279\n",
       "...         ...    ...         ...\n",
       "139152    31901  31303           1\n",
       "139153    31600  32040           1\n",
       "139154    31901  31290           1\n",
       "139155    31600  32048           1\n",
       "139156    31324  31133           1\n",
       "\n",
       "[139157 rows x 3 columns]"
      ]
     },
     "metadata": {},
     "execution_count": 12
    }
   ],
   "metadata": {}
  },
  {
   "cell_type": "code",
   "execution_count": 13,
   "source": [
    "print()\n",
    "print(popular_routes.popularity.sum()/data.end_station_id.count())"
   ],
   "outputs": [
    {
     "output_type": "stream",
     "name": "stdout",
     "text": [
      "\n",
      "0.998245288284454\n"
     ]
    }
   ],
   "metadata": {}
  },
  {
   "cell_type": "code",
   "execution_count": 155,
   "source": [
    "# make a shapely geometry for every pair, then return \n",
    "#popular_routes = popular_routes.assign(geom = [make_edge_geometry(*coords) for coords in zip(popular_routes.startid,popular_routes.endid)])\n",
    "# clean out the na values and fix type issues\n",
    "popular_routes = popular_routes.dropna().convert_dtypes()\n",
    "\n",
    "# convert the dataframe of routes into a GeoDataframe of edges\n",
    "# = gpd.GeoDataFrame(popular_routes,crs=\"EPSG:4326\", geometry='geom')\n",
    "edge_gdf = gpd.read_file('outputs/alltrips_no_self.geojson')\n",
    "\n",
    "# reproject in epgs 26985 to calculate length\n",
    "lens = edge_gdf.to_crs(epsg=26985).length\n",
    "edge_gdf = edge_gdf.assign(length=lens)\n",
    "\n"
   ],
   "outputs": [],
   "metadata": {}
  },
  {
   "cell_type": "code",
   "execution_count": 156,
   "source": [
    "def write_no_self_to_file():\n",
    "    edge_gdf[edge_gdf.startid!=edge_gdf.endid].assign(length = lens).to_crs(epsg=26985).to_file('outputs/alltrips_no_self.geojson',driver='GeoJSON')"
   ],
   "outputs": [],
   "metadata": {}
  },
  {
   "cell_type": "code",
   "execution_count": 207,
   "source": [
    "sorted_stations = [sorted([int(x),int(y)]) for x,y in zip(edge_gdf.startid,edge_gdf.endid)]\n",
    "sorted_stations = [int(str(x)+str(y)) for x,y in sorted_stations]\n",
    "grouped = edge_gdf.assign(sorted_stations=sorted_stations).groupby('sorted_stations')"
   ],
   "outputs": [],
   "metadata": {}
  },
  {
   "cell_type": "code",
   "execution_count": 218,
   "source": [
    "unidir_routes = grouped.sum().reset_index().sort_values('popularity',ascending=False)\n",
    "# reassign original station ID\n",
    "st = [str(x)[:5] for x in unidir_routes.sorted_stations]\n",
    "end = [str(x)[-5:] for x in unidir_routes.sorted_stations]\n",
    "unidir_routes = unidir_routes.assign(startid=st,endid=end)\n",
    "# generate Linestring Geometries from start ID and end ID\n",
    "geoms = [make_edge_geometry(*coords) for coords in zip(unidir_routes.startid,unidir_routes.endid)]"
   ],
   "outputs": [],
   "metadata": {}
  },
  {
   "cell_type": "code",
   "execution_count": 222,
   "source": [
    "# make a shapely geometry for every pair, then assigen it to a column called geom \n",
    "unidir_routes = unidir_routes.assign(geom = geoms)\n",
    "# clean out the na values and fix type issues\n",
    "unidir_routes = unidir_routes.dropna()\n",
    "# convert the dataframe of routes into a GeoDataframe using the geometry calculated before\n",
    "unidir_routes = gpd.GeoDataFrame(unidir_routes,crs=\"EPSG:4326\", geometry='geom')\n"
   ],
   "outputs": [],
   "metadata": {}
  },
  {
   "cell_type": "code",
   "execution_count": 223,
   "source": [
    "unidir_routes.dtypes"
   ],
   "outputs": [
    {
     "output_type": "execute_result",
     "data": {
      "text/plain": [
       "sorted_stations       int64\n",
       "startid              object\n",
       "endid                object\n",
       "popularity            int64\n",
       "length              float64\n",
       "geom               geometry\n",
       "dtype: object"
      ]
     },
     "metadata": {},
     "execution_count": 223
    }
   ],
   "metadata": {}
  },
  {
   "cell_type": "code",
   "execution_count": 225,
   "source": [
    "unidir_routes.to_file('outputs/edges_uni.geojson',driver='GeoJSON',)\n",
    "#edge_gdf.to_file('edges.shp')"
   ],
   "outputs": [],
   "metadata": {}
  },
  {
   "cell_type": "code",
   "execution_count": null,
   "source": [
    "node_gdf = allstation_data.rename({'short_name':'osmid','lat':'x','lon':'y'},axis=1).set_index('osmid',drop=True)\n",
    "edge_gdf1 = edge_gdf.assign(key=0).assign(length=lens).rename({'startid':'u','endid':'v'},axis=1).set_index(['u','v','key']).sort_values('length',ascending=False)\n",
    "\n",
    "G = osmnx.utils_graph.graph_from_gdfs(node_gdf,edge_gdf1,)"
   ],
   "outputs": [],
   "metadata": {}
  },
  {
   "cell_type": "code",
   "execution_count": null,
   "source": [
    "colors = osmnx.plot.get_edge_colors_by_attr(G, 'length', num_bins=10, cmap='viridis', start=0, stop=1, na_color='none', equal_size=False)\n",
    "osmnx.plot_graph(G,edge_color=colors)"
   ],
   "outputs": [],
   "metadata": {}
  },
  {
   "cell_type": "code",
   "execution_count": null,
   "source": [
    "df_lp = edge_gdf[['length','popularity']].copy()\n",
    "\n",
    "df_lp.plot(kind='scatter',x='length',y='popularity')\n",
    "\n",
    "edge_gdf.sort_values('length',ascending=False)"
   ],
   "outputs": [],
   "metadata": {}
  },
  {
   "cell_type": "code",
   "execution_count": null,
   "source": [
    "edge_gdf.sort_values('length',ascending=False)"
   ],
   "outputs": [],
   "metadata": {}
  },
  {
   "cell_type": "code",
   "execution_count": null,
   "source": [
    "def undirected_match(df,ID1,ID2):\n",
    "    a = df.loc[df.start_station_id==ID1 & df.end_station_id==ID2]\n",
    "    b = df.loc[df.start_station_id==ID2 & df.end_station_id==ID1]\n",
    "    return pd.concat(a,b)"
   ],
   "outputs": [],
   "metadata": {}
  },
  {
   "cell_type": "code",
   "execution_count": null,
   "source": [
    "a.loc[(a.start_station_id==32219) & (a.end_station_id==31714)]"
   ],
   "outputs": [],
   "metadata": {}
  },
  {
   "cell_type": "code",
   "execution_count": null,
   "source": [
    "def dirtest(a,id1,id2):\n",
    "    df = pd.concat(\n",
    "        [\n",
    "        a.loc[(a.start_station_id==id1) & (a.end_station_id==id2)],\n",
    "        a.loc[(a.start_station_id==id2) & (a.end_station_id==id1)],\n",
    "        ]\n",
    "    ) \n",
    "    return df"
   ],
   "outputs": [],
   "metadata": {}
  },
  {
   "cell_type": "markdown",
   "source": [],
   "metadata": {}
  },
  {
   "cell_type": "code",
   "execution_count": null,
   "source": [
    "longest_ride = dirtest(data,32219,31714)"
   ],
   "outputs": [],
   "metadata": {}
  },
  {
   "cell_type": "code",
   "execution_count": null,
   "source": [
    "longest_ride.dropna(axis=1,)"
   ],
   "outputs": [],
   "metadata": {}
  },
  {
   "cell_type": "code",
   "execution_count": null,
   "source": [
    "data.to_pickle('all_trips_pickle.gz',)\n"
   ],
   "outputs": [],
   "metadata": {}
  },
  {
   "cell_type": "markdown",
   "source": [
    "\tDuration\tstarted_at\tended_at\tstart_station_id\tstart_station_name\tend_station_id\tend_station_name\tBike number\tmember_casual\ttriptime\n",
    "1087547\t11405.0\t2017-09-23 11:01:45\t2017-09-23 14:11:50\t32219.0\tReston YMCA\t31714.0\t61st St & Banks Pl NE\tW20569\tMember\t0 days 03:10:05\n",
    "716416\t13177.0\t2017-08-25 13:13:45\t2017-08-25 16:53:23\t31714.0\t61st St & Banks Pl NE\t32219.0\tReston YMCA\tW21651\tMember\t0 days 03:39:38\n"
   ],
   "metadata": {}
  }
 ],
 "metadata": {
  "interpreter": {
   "hash": "4be33c6e0208a14f591ef87d3331e90125109ae30500da68dad5e8b0b4d397e7"
  },
  "kernelspec": {
   "name": "python3",
   "display_name": "Python 3.9.4 64-bit ('geo_env': conda)"
  },
  "language_info": {
   "codemirror_mode": {
    "name": "ipython",
    "version": 3
   },
   "file_extension": ".py",
   "mimetype": "text/x-python",
   "name": "python",
   "nbconvert_exporter": "python",
   "pygments_lexer": "ipython3",
   "version": "3.9.4"
  }
 },
 "nbformat": 4,
 "nbformat_minor": 4
}