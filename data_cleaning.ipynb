{
 "cells": [
  {
   "cell_type": "code",
   "execution_count": 49,
   "metadata": {},
   "outputs": [],
   "source": [
    "import cabi_functions\n",
    "import pandas as pd"
   ]
  },
  {
   "cell_type": "markdown",
   "metadata": {},
   "source": [
    "# Data loading\n",
    "First we load the table of all trips, remove any with incomplete data, and convert the datatypes to the most appropriate"
   ]
  },
  {
   "cell_type": "code",
   "execution_count": 2,
   "metadata": {},
   "outputs": [],
   "source": [
    "df = cabi_functions.return_trip_datatable()\n",
    "# clean the NA values out\n",
    "df = df.dropna()\n",
    "# convert them to appropriate datatypes\n",
    "df = df.convert_dtypes()\n"
   ]
  },
  {
   "cell_type": "markdown",
   "metadata": {},
   "source": [
    "We have some number of trips where the end station is listed as 0. Obviously these are invalid"
   ]
  },
  {
   "cell_type": "code",
   "execution_count": 84,
   "metadata": {},
   "outputs": [],
   "source": [
    "df = df[df.start_station_id>0]\n",
    "df = df[df.end_station_id>0]"
   ]
  },
  {
   "cell_type": "code",
   "execution_count": 83,
   "metadata": {},
   "outputs": [
    {
     "data": {
      "text/html": [
       "<div>\n",
       "<style scoped>\n",
       "    .dataframe tbody tr th:only-of-type {\n",
       "        vertical-align: middle;\n",
       "    }\n",
       "\n",
       "    .dataframe tbody tr th {\n",
       "        vertical-align: top;\n",
       "    }\n",
       "\n",
       "    .dataframe thead th {\n",
       "        text-align: right;\n",
       "    }\n",
       "</style>\n",
       "<table border=\"1\" class=\"dataframe\">\n",
       "  <thead>\n",
       "    <tr style=\"text-align: right;\">\n",
       "      <th></th>\n",
       "      <th>sorted</th>\n",
       "      <th>popularity</th>\n",
       "    </tr>\n",
       "  </thead>\n",
       "  <tbody>\n",
       "    <tr>\n",
       "      <th>0</th>\n",
       "      <td>3100031000</td>\n",
       "      <td>1825</td>\n",
       "    </tr>\n",
       "    <tr>\n",
       "      <th>1</th>\n",
       "      <td>3100031001</td>\n",
       "      <td>737</td>\n",
       "    </tr>\n",
       "    <tr>\n",
       "      <th>2</th>\n",
       "      <td>3100031002</td>\n",
       "      <td>902</td>\n",
       "    </tr>\n",
       "    <tr>\n",
       "      <th>3</th>\n",
       "      <td>3100031003</td>\n",
       "      <td>944</td>\n",
       "    </tr>\n",
       "    <tr>\n",
       "      <th>4</th>\n",
       "      <td>3100031004</td>\n",
       "      <td>453</td>\n",
       "    </tr>\n",
       "    <tr>\n",
       "      <th>...</th>\n",
       "      <td>...</td>\n",
       "      <td>...</td>\n",
       "    </tr>\n",
       "    <tr>\n",
       "      <th>80057</th>\n",
       "      <td>3260932609</td>\n",
       "      <td>194</td>\n",
       "    </tr>\n",
       "    <tr>\n",
       "      <th>80058</th>\n",
       "      <td>3290032900</td>\n",
       "      <td>353</td>\n",
       "    </tr>\n",
       "    <tr>\n",
       "      <th>80059</th>\n",
       "      <td>3290032902</td>\n",
       "      <td>1</td>\n",
       "    </tr>\n",
       "    <tr>\n",
       "      <th>80060</th>\n",
       "      <td>3290132901</td>\n",
       "      <td>6</td>\n",
       "    </tr>\n",
       "    <tr>\n",
       "      <th>80061</th>\n",
       "      <td>3290232902</td>\n",
       "      <td>7</td>\n",
       "    </tr>\n",
       "  </tbody>\n",
       "</table>\n",
       "<p>80062 rows × 2 columns</p>\n",
       "</div>"
      ],
      "text/plain": [
       "           sorted  popularity\n",
       "0      3100031000        1825\n",
       "1      3100031001         737\n",
       "2      3100031002         902\n",
       "3      3100031003         944\n",
       "4      3100031004         453\n",
       "...           ...         ...\n",
       "80057  3260932609         194\n",
       "80058  3290032900         353\n",
       "80059  3290032902           1\n",
       "80060  3290132901           6\n",
       "80061  3290232902           7\n",
       "\n",
       "[80062 rows x 2 columns]"
      ]
     },
     "execution_count": 83,
     "metadata": {},
     "output_type": "execute_result"
    }
   ],
   "source": [
    "# create a list of the sorted stations\n",
    "sorted_stations = [sorted([int(x),int(y)]) for x,y in zip(df.start_station_id,df.end_station_id)]\n",
    "sorted_stations_combined = [int(str(x)+str(y)) for x,y in sorted_stations]\n",
    "# assign the station to a column in the dataframe,and group it by the unique station combo, then return the results to a seperate dataframe\n",
    "grouped = df.assign(sorted_stations=sorted_stations).groupby('sorted_stations')\n",
    "\n",
    "route_popularity = grouped.count().reset_index()\n",
    "route_popularity = route_popularity[['sorted_stations','end_station_id']]\n",
    "route_popularity.columns=['sorted','popularity']"
   ]
  },
  {
   "cell_type": "code",
   "execution_count": 101,
   "metadata": {},
   "outputs": [],
   "source": [
    "a = [int(str(val)[0:5]) for val in route_popularity.sorted]\n",
    "b = [int(str(val)[5:10]) for val in route_popularity.sorted]\n",
    "\n",
    "route_popularity = route_popularity.assign(st=a,en=b)"
   ]
  },
  {
   "cell_type": "code",
   "execution_count": 103,
   "metadata": {},
   "outputs": [],
   "source": [
    "route_popularity.to_csv('data/connections_csv.csv',columns=['st','en','popularity'],index=False)"
   ]
  },
  {
   "cell_type": "code",
   "execution_count": null,
   "metadata": {},
   "outputs": [],
   "source": []
  }
 ],
 "metadata": {
  "interpreter": {
   "hash": "be2a6025bae76a7516ab88c2f31b9863ea4cd93e966fcc072327ea369c90eae2"
  },
  "kernelspec": {
   "display_name": "Python 3",
   "language": "python",
   "name": "python3"
  },
  "language_info": {
   "codemirror_mode": {
    "name": "ipython",
    "version": 3
   },
   "file_extension": ".py",
   "mimetype": "text/x-python",
   "name": "python",
   "nbconvert_exporter": "python",
   "pygments_lexer": "ipython3",
   "version": "3.10.0"
  },
  "widgets": {
   "application/vnd.jupyter.widget-state+json": {
    "state": {},
    "version_major": 2,
    "version_minor": 0
   }
  }
 },
 "nbformat": 4,
 "nbformat_minor": 4
}
