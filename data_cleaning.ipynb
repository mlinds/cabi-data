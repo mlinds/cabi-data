{
 "cells": [
  {
   "cell_type": "code",
   "execution_count": 1,
   "metadata": {},
   "outputs": [],
   "source": [
    "import cabi_functions\n",
    "import pandas as pd"
   ]
  },
  {
   "cell_type": "markdown",
   "metadata": {},
   "source": [
    "# Creating trip summary table\n",
    "Our goal is to create a table showing the stations in a certain pair of stations\n",
    "## Loading trip data\n",
    "First we load the table of all trips, remove any with incomplete data, and convert the datatypes to the most appropriate"
   ]
  },
  {
   "cell_type": "code",
   "execution_count": 2,
   "metadata": {},
   "outputs": [],
   "source": [
    "df = cabi_functions.return_trip_datatable()\n",
    "# clean the NA values out\n",
    "df = df.dropna()\n",
    "# convert them to appropriate datatypes\n",
    "df = df.convert_dtypes()\n"
   ]
  },
  {
   "cell_type": "markdown",
   "metadata": {},
   "source": [
    "## Removing invalid trips\n",
    "We have some number of trips where the end station is listed as 0. Obviously these are invalid"
   ]
  },
  {
   "cell_type": "code",
   "execution_count": 3,
   "metadata": {},
   "outputs": [],
   "source": [
    "df = df[df.start_station_id>0]\n",
    "df = df[df.end_station_id>0]\n"
   ]
  },
  {
   "cell_type": "markdown",
   "metadata": {},
   "source": [
    "## Removing trips from removed stations\n",
    "We also need to make sure we know the location of the station. Therefore we load the list of stations names. Maybe in the future if I can find a table of the locations of removed stations and we can add them to the visualization\n",
    "### loading our current stations"
   ]
  },
  {
   "cell_type": "code",
   "execution_count": 4,
   "metadata": {},
   "outputs": [],
   "source": [
    "# Define which attributes to lookup from airports.csv\n",
    "cabi_stations = 'https://raw.githubusercontent.com/mlinds/cabi-data/main/data/stationLookup.csv'\n",
    "station_names_list = list(pd.read_csv(cabi_stations).short_name)"
   ]
  },
  {
   "cell_type": "markdown",
   "metadata": {},
   "source": [
    "### Selecting only trips involving extant stations\n",
    "We rewrite the dataframe to include only stations that exist in our location lookup table"
   ]
  },
  {
   "cell_type": "code",
   "execution_count": 5,
   "metadata": {},
   "outputs": [],
   "source": [
    "df = df[df.end_station_id.map(lambda x:x in station_names_list)]\n",
    "df = df[df.start_station_id.map(lambda x:x in station_names_list)]"
   ]
  },
  {
   "cell_type": "markdown",
   "metadata": {},
   "source": [
    "## Merging based on which stations are involved\n",
    "Now to merge based on the same *pairing* of stations (e.g. we do not need to care about which is the origin and which is the destination)"
   ]
  },
  {
   "cell_type": "code",
   "execution_count": 6,
   "metadata": {},
   "outputs": [],
   "source": [
    "# create a list of the sorted stations\n",
    "sorted_stations = [sorted([int(x),int(y)]) for x,y in zip(df.start_station_id,df.end_station_id)]\n",
    "sorted_stations_combined = [int(str(x)+str(y)) for x,y in sorted_stations]\n",
    "# assign the station to a column in the dataframe,and group it by the unique station combo, then return the results to a seperate dataframe\n",
    "grouped = df.assign(sorted_stations=sorted_stations_combined).groupby('sorted_stations')\n",
    "\n",
    "route_popularity = grouped.count().reset_index()\n",
    "route_popularity = route_popularity[['sorted_stations','end_station_id']]\n",
    "route_popularity.columns=['sorted','popularity']"
   ]
  },
  {
   "cell_type": "markdown",
   "metadata": {},
   "source": [
    "We will now reassign the start and end, so that we can seperately plot them later"
   ]
  },
  {
   "cell_type": "code",
   "execution_count": 7,
   "metadata": {},
   "outputs": [],
   "source": [
    "a = [int(str(val)[0:5]) for val in route_popularity.sorted]\n",
    "b = [int(str(val)[5:10]) for val in route_popularity.sorted]\n",
    "\n",
    "route_popularity = route_popularity.assign(st=a,en=b)\n",
    "route_popularity.sort_values('popularity',ascending=False,inplace=True)"
   ]
  },
  {
   "cell_type": "code",
   "execution_count": 8,
   "metadata": {},
   "outputs": [],
   "source": [
    "route_popularity.to_csv('data/connections_csv.csv',columns=['st','en','popularity'],index=False)"
   ]
  },
  {
   "cell_type": "code",
   "execution_count": null,
   "metadata": {},
   "outputs": [],
   "source": []
  }
 ],
 "metadata": {
  "interpreter": {
   "hash": "be2a6025bae76a7516ab88c2f31b9863ea4cd93e966fcc072327ea369c90eae2"
  },
  "kernelspec": {
   "display_name": "Python 3",
   "language": "python",
   "name": "python3"
  },
  "language_info": {
   "codemirror_mode": {
    "name": "ipython",
    "version": 3
   },
   "file_extension": ".py",
   "mimetype": "text/x-python",
   "name": "python",
   "nbconvert_exporter": "python",
   "pygments_lexer": "ipython3",
   "version": "3.9.4"
  },
  "widgets": {
   "application/vnd.jupyter.widget-state+json": {
    "state": {},
    "version_major": 2,
    "version_minor": 0
   }
  }
 },
 "nbformat": 4,
 "nbformat_minor": 4
}
