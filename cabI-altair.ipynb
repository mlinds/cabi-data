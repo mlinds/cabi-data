{
 "cells": [
  {
   "cell_type": "code",
   "execution_count": 2,
   "metadata": {},
   "outputs": [],
   "source": [
    "import altair as alt\n",
    "import geopandas as gpd\n",
    "import pandas as pd\n",
    "from shapely.ops import orient"
   ]
  },
  {
   "cell_type": "code",
   "execution_count": 3,
   "metadata": {},
   "outputs": [],
   "source": [
    "dc_wards = gpd.read_file('Wards_from_2012_with_Census_2020.geojson')\n",
    "dc_wards.geometry = dc_wards.geometry.apply(orient, args=(-1,))\n"
   ]
  },
  {
   "cell_type": "code",
   "execution_count": 4,
   "metadata": {},
   "outputs": [],
   "source": [
    "basechart = alt.Chart(dc_wards).mark_geoshape(fill='None',stroke='gray').properties(\n",
    "    width=750*1.75,\n",
    "    height=500*1.75,\n",
    "    )"
   ]
  },
  {
   "cell_type": "code",
   "execution_count": 5,
   "metadata": {},
   "outputs": [],
   "source": [
    "# Define which attributes to lookup from airports.csv\n",
    "cabi_stations = 'https://raw.githubusercontent.com/mlinds/cabi-data/main/data/stationLookup.csv'\n",
    "connections_path = 'https://raw.githubusercontent.com/mlinds/cabi-data/main/data/connections_csv.csv'\n"
   ]
  },
  {
   "cell_type": "code",
   "execution_count": 6,
   "metadata": {},
   "outputs": [],
   "source": [
    "lookup_data = alt.LookupData(\n",
    "    cabi_stations, key=\"short_name\", fields=[\"name\", \"lat\", \"lon\"]\n",
    ")\n",
    "\n",
    "## TODO app popularity to the stations data\n",
    "lookup_pop = alt.LookupData(\n",
    "    connections_path, key=\"st\", fields=[\"popularity\"]\n",
    ")"
   ]
  },
  {
   "cell_type": "code",
   "execution_count": 7,
   "metadata": {},
   "outputs": [],
   "source": [
    "# Create mouseover selection\n",
    "select_station = alt.selection_single(\n",
    "    on=\"mouseover\", nearest=True, fields=[\"st\"], empty=\"none\"\n",
    ")"
   ]
  },
  {
   "cell_type": "code",
   "execution_count": 8,
   "metadata": {},
   "outputs": [],
   "source": [
    "color_size_scale = \"quantile\"\n",
    "colorscale = alt.Color('popularity:Q', scale=alt.Scale(scheme=\"inferno\",type=color_size_scale))"
   ]
  },
  {
   "cell_type": "code",
   "execution_count": 9,
   "metadata": {},
   "outputs": [],
   "source": [
    "connections = alt.Chart(connections_path).mark_rule().encode(\n",
    "    latitude=\"lat:Q\",\n",
    "    longitude=\"lon:Q\",\n",
    "    latitude2=\"lat2:Q\",\n",
    "    longitude2=\"lon2:Q\",\n",
    "    color=colorscale,\n",
    "    strokeWidth=alt.StrokeWidth('popularity:Q',scale=alt.Scale(type=color_size_scale)),\n",
    "    order = alt.Order('popularity:Q',sort=\"ascending\"),\n",
    "    # opacity = alt.Opacity('popularity:Q',scale=alt.Scale(type=\"linear\"))\n",
    ").transform_lookup(\n",
    "    lookup=\"st\",\n",
    "    from_=lookup_data\n",
    ").transform_lookup(\n",
    "    lookup=\"en\",\n",
    "    from_=lookup_data,\n",
    "    as_=[\"name2\", \"lat2\", \"lon2\"]\n",
    ").transform_filter(\n",
    "    select_station\n",
    ")\n",
    "\n",
    "annotation = alt.Chart(cabi_stations).mark_text().encode(\n",
    "    text='name:N'\n",
    ").transform_lookup(\n",
    "    lookup = 'short_name',\n",
    "    from_ = alt.LookupData(cabi_stations, key=\"short_name\", fields=[\"short_name\"]),\n",
    "    as_ = [\"st\"]\n",
    ").transform_filter(\n",
    "    select_station\n",
    ")"
   ]
  },
  {
   "cell_type": "code",
   "execution_count": 10,
   "metadata": {},
   "outputs": [],
   "source": [
    "points = alt.Chart(cabi_stations).mark_circle().encode(\n",
    "    latitude = 'lat:Q',\n",
    "    longitude = 'lon:Q',\n",
    "    tooltip=[\"name:N\"],\n",
    ").transform_lookup(\n",
    "    lookup = 'short_name',\n",
    "    from_ = alt.LookupData(cabi_stations, key=\"short_name\", fields=[\"short_name\"]),\n",
    "    as_ = [\"st\"]\n",
    ").add_selection(\n",
    "    select_station\n",
    ")\n"
   ]
  },
  {
   "cell_type": "code",
   "execution_count": 11,
   "metadata": {},
   "outputs": [
    {
     "data": {
      "text/html": [
       "\n",
       "<div id=\"altair-viz-0eb238477c1a4cb18f4cb7d94bb3afb3\"></div>\n",
       "<script type=\"text/javascript\">\n",
       "  (function(spec, embedOpt){\n",
       "    let outputDiv = document.currentScript.previousElementSibling;\n",
       "    if (outputDiv.id !== \"altair-viz-0eb238477c1a4cb18f4cb7d94bb3afb3\") {\n",
       "      outputDiv = document.getElementById(\"altair-viz-0eb238477c1a4cb18f4cb7d94bb3afb3\");\n",
       "    }\n",
       "    const paths = {\n",
       "      \"vega\": \"https://cdn.jsdelivr.net/npm//vega@5?noext\",\n",
       "      \"vega-lib\": \"https://cdn.jsdelivr.net/npm//vega-lib?noext\",\n",
       "      \"vega-lite\": \"https://cdn.jsdelivr.net/npm//vega-lite@4.8.1?noext\",\n",
       "      \"vega-embed\": \"https://cdn.jsdelivr.net/npm//vega-embed@6?noext\",\n",
       "    };\n",
       "\n",
       "    function loadScript(lib) {\n",
       "      return new Promise(function(resolve, reject) {\n",
       "        var s = document.createElement('script');\n",
       "        s.src = paths[lib];\n",
       "        s.async = true;\n",
       "        s.onload = () => resolve(paths[lib]);\n",
       "        s.onerror = () => reject(`Error loading script: ${paths[lib]}`);\n",
       "        document.getElementsByTagName(\"head\")[0].appendChild(s);\n",
       "      });\n",
       "    }\n",
       "\n",
       "    function showError(err) {\n",
       "      outputDiv.innerHTML = `<div class=\"error\" style=\"color:red;\">${err}</div>`;\n",
       "      throw err;\n",
       "    }\n",
       "\n",
       "    function displayChart(vegaEmbed) {\n",
       "      vegaEmbed(outputDiv, spec, embedOpt)\n",
       "        .catch(err => showError(`Javascript Error: ${err.message}<br>This usually means there's a typo in your chart specification. See the javascript console for the full traceback.`));\n",
       "    }\n",
       "\n",
       "    if(typeof define === \"function\" && define.amd) {\n",
       "      requirejs.config({paths});\n",
       "      require([\"vega-embed\"], displayChart, err => showError(`Error loading script: ${err.message}`));\n",
       "    } else if (typeof vegaEmbed === \"function\") {\n",
       "      displayChart(vegaEmbed);\n",
       "    } else {\n",
       "      loadScript(\"vega\")\n",
       "        .then(() => loadScript(\"vega-lite\"))\n",
       "        .then(() => loadScript(\"vega-embed\"))\n",
       "        .catch(showError)\n",
       "        .then(() => displayChart(vegaEmbed));\n",
       "    }\n",
       "  })({\"config\": {\"view\": {\"continuousWidth\": 400, \"continuousHeight\": 300, \"stroke\": null}}, \"layer\": [{\"data\": {\"url\": \"https://raw.githubusercontent.com/mlinds/cabi-data/main/data/connections_csv.csv\"}, \"mark\": \"rule\", \"encoding\": {\"color\": {\"type\": \"quantitative\", \"field\": \"popularity\", \"scale\": {\"scheme\": \"inferno\", \"type\": \"quantile\"}}, \"latitude\": {\"field\": \"lat\", \"type\": \"quantitative\"}, \"latitude2\": {\"field\": \"lat2\"}, \"longitude\": {\"field\": \"lon\", \"type\": \"quantitative\"}, \"longitude2\": {\"field\": \"lon2\"}, \"order\": {\"type\": \"quantitative\", \"field\": \"popularity\", \"sort\": \"ascending\"}, \"strokeWidth\": {\"type\": \"quantitative\", \"field\": \"popularity\", \"scale\": {\"type\": \"quantile\"}}}, \"transform\": [{\"lookup\": \"st\", \"from\": {\"data\": {\"url\": \"https://raw.githubusercontent.com/mlinds/cabi-data/main/data/stationLookup.csv\"}, \"key\": \"short_name\", \"fields\": [\"name\", \"lat\", \"lon\"]}}, {\"lookup\": \"en\", \"as\": [\"name2\", \"lat2\", \"lon2\"], \"from\": {\"data\": {\"url\": \"https://raw.githubusercontent.com/mlinds/cabi-data/main/data/stationLookup.csv\"}, \"key\": \"short_name\", \"fields\": [\"name\", \"lat\", \"lon\"]}}, {\"filter\": {\"selection\": \"selector001\"}}]}, {\"data\": {\"url\": \"https://raw.githubusercontent.com/mlinds/cabi-data/main/data/stationLookup.csv\"}, \"mark\": \"circle\", \"encoding\": {\"latitude\": {\"field\": \"lat\", \"type\": \"quantitative\"}, \"longitude\": {\"field\": \"lon\", \"type\": \"quantitative\"}, \"tooltip\": [{\"type\": \"nominal\", \"field\": \"name\"}]}, \"selection\": {\"selector001\": {\"type\": \"single\", \"on\": \"mouseover\", \"nearest\": true, \"fields\": [\"st\"], \"empty\": \"none\"}}, \"transform\": [{\"lookup\": \"short_name\", \"as\": [\"st\"], \"from\": {\"data\": {\"url\": \"https://raw.githubusercontent.com/mlinds/cabi-data/main/data/stationLookup.csv\"}, \"key\": \"short_name\", \"fields\": [\"short_name\"]}}]}], \"$schema\": \"https://vega.github.io/schema/vega-lite/v4.8.1.json\"}, {\"mode\": \"vega-lite\"});\n",
       "</script>"
      ],
      "text/plain": [
       "alt.LayerChart(...)"
      ]
     },
     "execution_count": 11,
     "metadata": {},
     "output_type": "execute_result"
    }
   ],
   "source": [
    "combined_chart = (connections + points )\n",
    "combined_chart.configure_view(stroke=None)\n"
   ]
  },
  {
   "cell_type": "code",
   "execution_count": 12,
   "metadata": {},
   "outputs": [],
   "source": [
    "html_out = combined_chart.to_html()\n",
    "with open('MapOutput.html','w') as file:\n",
    "    file.write(html_out)\n",
    "\n",
    "with open('vega-lite-map.json','w') as file:\n",
    "    file.write(combined_chart.to_json())"
   ]
  },
  {
   "cell_type": "code",
   "execution_count": null,
   "metadata": {},
   "outputs": [],
   "source": []
  }
 ],
 "metadata": {
  "interpreter": {
   "hash": "98b0a9b7b4eaaa670588a142fd0a9b87eaafe866f1db4228be72b4211d12040f"
  },
  "kernelspec": {
   "display_name": "Python 3",
   "language": "python",
   "name": "python3"
  },
  "language_info": {
   "codemirror_mode": {
    "name": "ipython",
    "version": 3
   },
   "file_extension": ".py",
   "mimetype": "text/x-python",
   "name": "python",
   "nbconvert_exporter": "python",
   "pygments_lexer": "ipython3",
   "version": "3.10.0"
  },
  "widgets": {
   "application/vnd.jupyter.widget-state+json": {
    "state": {},
    "version_major": 2,
    "version_minor": 0
   }
  }
 },
 "nbformat": 4,
 "nbformat_minor": 4
}
