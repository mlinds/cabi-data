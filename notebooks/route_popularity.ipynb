{
 "cells": [
  {
   "cell_type": "code",
   "execution_count": 1,
   "metadata": {},
   "outputs": [],
   "source": [
    "import cabi\n",
    "import pandas as pd\n"
   ]
  },
  {
   "cell_type": "markdown",
   "metadata": {},
   "source": [
    "# Creating trip summary table\n",
    "Our goal is to create a table showing the stations in a certain pair of stations\n",
    "## Loading trip data\n",
    "First we load the table of all trips, and remove any with incomplete data"
   ]
  },
  {
   "cell_type": "code",
   "execution_count": 2,
   "metadata": {},
   "outputs": [],
   "source": [
    "df = cabi.return_trip_datatable()\n",
    "df.to_parquet(\"../data/interim/comb_trips.gzip\", compression=\"gzip\")\n"
   ]
  },
  {
   "cell_type": "code",
   "execution_count": 4,
   "metadata": {},
   "outputs": [
    {
     "name": "stdout",
     "output_type": "stream",
     "text": [
      "31025537 total trips\n",
      "30601786 after removing trips with NA values \n",
      " 423751 trips removed due to NA values\n"
     ]
    }
   ],
   "source": [
    "df = pd.read_parquet(\"../data/interim/comb_trips.gzip\")\n",
    "total = len(df)\n",
    "print(f\"{total} total trips\")\n",
    "# clean the NA values out\n",
    "df = df.dropna()\n",
    "total_nonna = len(df)\n",
    "print(\n",
    "    f\"{total_nonna} after removing trips with NA values \\n {total-total_nonna} trips removed due to NA values\"\n",
    ")\n"
   ]
  },
  {
   "cell_type": "markdown",
   "metadata": {},
   "source": [
    "## Removing invalid trips\n",
    "We have some number of trips where the end station is listed as 0. Obviously these are invalid"
   ]
  },
  {
   "cell_type": "code",
   "execution_count": 5,
   "metadata": {},
   "outputs": [
    {
     "name": "stdout",
     "output_type": "stream",
     "text": [
      "30600223 trips after removing trips with missing origin or destination \n",
      " 1563 trips removed\n"
     ]
    }
   ],
   "source": [
    "df = df[df.start_station_id > 0]\n",
    "df = df[df.end_station_id > 0]\n",
    "total_mappable = len(df)\n",
    "print(\n",
    "    f\"{total_mappable} trips after removing trips with missing origin or destination \\n {total_nonna-total_mappable} trips removed\"\n",
    ")\n"
   ]
  },
  {
   "cell_type": "markdown",
   "metadata": {},
   "source": [
    "## Removing trips from removed stations\n",
    "We also need to make sure we know the location of the station. Therefore we load the list of stations names. Maybe in the future if I can find a table of the locations of removed stations and we can add them to the visualization\n",
    "### loading our current stations"
   ]
  },
  {
   "cell_type": "code",
   "execution_count": 9,
   "metadata": {},
   "outputs": [],
   "source": [
    "# Define which attributes to lookup from airports.csv\n",
    "cabi_stations = \"https://raw.githubusercontent.com/mlinds/cabi-data/main/data/processed/stationLookup.csv\"\n",
    "station_names_list = list(pd.read_csv(cabi_stations).short_name)\n"
   ]
  },
  {
   "cell_type": "markdown",
   "metadata": {},
   "source": [
    "### Selecting only trips involving extant stations\n",
    "We rewrite the dataframe to include only stations that exist in our location lookup table"
   ]
  },
  {
   "cell_type": "code",
   "execution_count": 25,
   "metadata": {},
   "outputs": [
    {
     "name": "stdout",
     "output_type": "stream",
     "text": [
      "30282851 trips after removing trips from stations that dont exist \n",
      " 317372\n"
     ]
    }
   ],
   "source": [
    "df = df[df.end_station_id.map(lambda x: x in station_names_list)]\n",
    "df = df[df.start_station_id.map(lambda x: x in station_names_list)]\n",
    "total_current = len(df)\n",
    "print(\n",
    "    f\"{total_current} trips after removing trips from stations that dont exist \\n {total_mappable-total_current} trips were removed\"\n",
    ")\n"
   ]
  },
  {
   "cell_type": "markdown",
   "metadata": {},
   "source": [
    "## Removing self-trips\n",
    "There are interesting but they aren't easy to show on a map\n"
   ]
  },
  {
   "cell_type": "code",
   "execution_count": 28,
   "metadata": {},
   "outputs": [
    {
     "name": "stdout",
     "output_type": "stream",
     "text": [
      "28926153 trips after removing trips from stations that dont exist \n",
      " 1356698 trips were removed\n"
     ]
    }
   ],
   "source": [
    "df = df[df.start_station_id != df.end_station_id]\n",
    "total_nonself = len(df)\n",
    "print(\n",
    "    f\"{total_nonself} trips after removing trips from stations that dont exist \\n {total_current-total_nonself} trips were removed\"\n",
    ")\n"
   ]
  },
  {
   "cell_type": "markdown",
   "metadata": {},
   "source": [
    "## Merging based on which stations are involved\n",
    "Now to merge based on the same *pairing* of stations (e.g. we do not need to care about which is the origin and which is the destination) to calculate the popularity of that route."
   ]
  },
  {
   "cell_type": "code",
   "execution_count": 30,
   "metadata": {},
   "outputs": [],
   "source": [
    "# create a list of the sorted stations\n",
    "sorted_stations = [\n",
    "    sorted([int(x), int(y)]) for x, y in zip(df.start_station_id, df.end_station_id)\n",
    "]\n",
    "sorted_stations_combined = [int(str(x) + str(y)) for x, y in sorted_stations]\n",
    "\n",
    "# we also want to create an integer value for the station pair that is not sorted\n",
    "unsorted_stations_combined = [\n",
    "    int(str(x) + str(y)) for x, y in zip(df.start_station_id, df.end_station_id)\n",
    "]\n"
   ]
  },
  {
   "cell_type": "code",
   "execution_count": 31,
   "metadata": {},
   "outputs": [],
   "source": [
    "df = df.assign(\n",
    "    sorted_stations=sorted_stations_combined, unsrt=unsorted_stations_combined\n",
    ")\n"
   ]
  },
  {
   "cell_type": "code",
   "execution_count": 47,
   "metadata": {},
   "outputs": [
    {
     "data": {
      "text/html": [
       "<div>\n",
       "<style scoped>\n",
       "    .dataframe tbody tr th:only-of-type {\n",
       "        vertical-align: middle;\n",
       "    }\n",
       "\n",
       "    .dataframe tbody tr th {\n",
       "        vertical-align: top;\n",
       "    }\n",
       "\n",
       "    .dataframe thead th {\n",
       "        text-align: right;\n",
       "    }\n",
       "</style>\n",
       "<table border=\"1\" class=\"dataframe\">\n",
       "  <thead>\n",
       "    <tr style=\"text-align: right;\">\n",
       "      <th></th>\n",
       "      <th>sorted</th>\n",
       "      <th>popularity</th>\n",
       "    </tr>\n",
       "  </thead>\n",
       "  <tbody>\n",
       "    <tr>\n",
       "      <th>0</th>\n",
       "      <td>3100031002</td>\n",
       "      <td>987</td>\n",
       "    </tr>\n",
       "    <tr>\n",
       "      <th>1</th>\n",
       "      <td>3100031003</td>\n",
       "      <td>1012</td>\n",
       "    </tr>\n",
       "    <tr>\n",
       "      <th>2</th>\n",
       "      <td>3100031004</td>\n",
       "      <td>469</td>\n",
       "    </tr>\n",
       "    <tr>\n",
       "      <th>3</th>\n",
       "      <td>3100031005</td>\n",
       "      <td>2222</td>\n",
       "    </tr>\n",
       "    <tr>\n",
       "      <th>4</th>\n",
       "      <td>3100031006</td>\n",
       "      <td>1726</td>\n",
       "    </tr>\n",
       "    <tr>\n",
       "      <th>...</th>\n",
       "      <td>...</td>\n",
       "      <td>...</td>\n",
       "    </tr>\n",
       "    <tr>\n",
       "      <th>84010</th>\n",
       "      <td>3260632608</td>\n",
       "      <td>118</td>\n",
       "    </tr>\n",
       "    <tr>\n",
       "      <th>84011</th>\n",
       "      <td>3260632609</td>\n",
       "      <td>36</td>\n",
       "    </tr>\n",
       "    <tr>\n",
       "      <th>84012</th>\n",
       "      <td>3260732608</td>\n",
       "      <td>63</td>\n",
       "    </tr>\n",
       "    <tr>\n",
       "      <th>84013</th>\n",
       "      <td>3260732609</td>\n",
       "      <td>75</td>\n",
       "    </tr>\n",
       "    <tr>\n",
       "      <th>84014</th>\n",
       "      <td>3260832609</td>\n",
       "      <td>134</td>\n",
       "    </tr>\n",
       "  </tbody>\n",
       "</table>\n",
       "<p>84015 rows × 2 columns</p>\n",
       "</div>"
      ],
      "text/plain": [
       "           sorted  popularity\n",
       "0      3100031002         987\n",
       "1      3100031003        1012\n",
       "2      3100031004         469\n",
       "3      3100031005        2222\n",
       "4      3100031006        1726\n",
       "...           ...         ...\n",
       "84010  3260632608         118\n",
       "84011  3260632609          36\n",
       "84012  3260732608          63\n",
       "84013  3260732609          75\n",
       "84014  3260832609         134\n",
       "\n",
       "[84015 rows x 2 columns]"
      ]
     },
     "execution_count": 47,
     "metadata": {},
     "output_type": "execute_result"
    }
   ],
   "source": [
    "a = (\n",
    "    df.groupby(\"sorted_stations\")\n",
    "    .count()\n",
    "    .reset_index()[[\"sorted_stations\", \"end_station_id\"]]\n",
    ")\n",
    "a.columns = [\"sorted\", \"popularity\"]\n"
   ]
  },
  {
   "cell_type": "code",
   "execution_count": 60,
   "metadata": {},
   "outputs": [
    {
     "data": {
      "text/plain": [
       "True"
      ]
     },
     "execution_count": 60,
     "metadata": {},
     "output_type": "execute_result"
    }
   ],
   "source": [
    "df.unsrt.value_counts().sum() == df.sorted_stations.value_counts().sum()\n"
   ]
  },
  {
   "cell_type": "code",
   "execution_count": 94,
   "metadata": {},
   "outputs": [
    {
     "data": {
      "text/html": [
       "<div>\n",
       "<style scoped>\n",
       "    .dataframe tbody tr th:only-of-type {\n",
       "        vertical-align: middle;\n",
       "    }\n",
       "\n",
       "    .dataframe tbody tr th {\n",
       "        vertical-align: top;\n",
       "    }\n",
       "\n",
       "    .dataframe thead th {\n",
       "        text-align: right;\n",
       "    }\n",
       "</style>\n",
       "<table border=\"1\" class=\"dataframe\">\n",
       "  <thead>\n",
       "    <tr style=\"text-align: right;\">\n",
       "      <th></th>\n",
       "      <th>st</th>\n",
       "      <th>en</th>\n",
       "      <th>popularity</th>\n",
       "    </tr>\n",
       "  </thead>\n",
       "  <tbody>\n",
       "    <tr>\n",
       "      <th>82223</th>\n",
       "      <td>31258</td>\n",
       "      <td>31247</td>\n",
       "      <td>79657</td>\n",
       "    </tr>\n",
       "    <tr>\n",
       "      <th>82222</th>\n",
       "      <td>31247</td>\n",
       "      <td>31258</td>\n",
       "      <td>79657</td>\n",
       "    </tr>\n",
       "    <tr>\n",
       "      <th>83263</th>\n",
       "      <td>31249</td>\n",
       "      <td>31258</td>\n",
       "      <td>70378</td>\n",
       "    </tr>\n",
       "    <tr>\n",
       "      <th>83264</th>\n",
       "      <td>31258</td>\n",
       "      <td>31249</td>\n",
       "      <td>70378</td>\n",
       "    </tr>\n",
       "    <tr>\n",
       "      <th>125992</th>\n",
       "      <td>31619</td>\n",
       "      <td>31613</td>\n",
       "      <td>67120</td>\n",
       "    </tr>\n",
       "    <tr>\n",
       "      <th>...</th>\n",
       "      <td>...</td>\n",
       "      <td>...</td>\n",
       "      <td>...</td>\n",
       "    </tr>\n",
       "    <tr>\n",
       "      <th>36523</th>\n",
       "      <td>31093</td>\n",
       "      <td>31642</td>\n",
       "      <td>1</td>\n",
       "    </tr>\n",
       "    <tr>\n",
       "      <th>21843</th>\n",
       "      <td>31045</td>\n",
       "      <td>31283</td>\n",
       "      <td>1</td>\n",
       "    </tr>\n",
       "    <tr>\n",
       "      <th>136592</th>\n",
       "      <td>31902</td>\n",
       "      <td>32200</td>\n",
       "      <td>1</td>\n",
       "    </tr>\n",
       "    <tr>\n",
       "      <th>70615</th>\n",
       "      <td>31223</td>\n",
       "      <td>31924</td>\n",
       "      <td>1</td>\n",
       "    </tr>\n",
       "    <tr>\n",
       "      <th>57635</th>\n",
       "      <td>31133</td>\n",
       "      <td>31022</td>\n",
       "      <td>1</td>\n",
       "    </tr>\n",
       "  </tbody>\n",
       "</table>\n",
       "<p>146573 rows × 3 columns</p>\n",
       "</div>"
      ],
      "text/plain": [
       "           st     en  popularity\n",
       "82223   31258  31247       79657\n",
       "82222   31247  31258       79657\n",
       "83263   31249  31258       70378\n",
       "83264   31258  31249       70378\n",
       "125992  31619  31613       67120\n",
       "...       ...    ...         ...\n",
       "36523   31093  31642           1\n",
       "21843   31045  31283           1\n",
       "136592  31902  32200           1\n",
       "70615   31223  31924           1\n",
       "57635   31133  31022           1\n",
       "\n",
       "[146573 rows x 3 columns]"
      ]
     },
     "execution_count": 94,
     "metadata": {},
     "output_type": "execute_result"
    }
   ],
   "source": [
    "undirected_pop = (\n",
    "    df.groupby([\"start_station_id\", \"end_station_id\", \"sorted_stations\"])\n",
    "    .size()\n",
    "    .reset_index()\n",
    "    .drop(columns=0)\n",
    "    .merge(a, left_on=\"sorted_stations\", right_on=\"sorted\")\n",
    "    .drop(columns=[\"sorted_stations\", \"sorted\"])\n",
    "    .sort_values(\"popularity\", ascending=False)\n",
    ")\n",
    "\n",
    "undirected_pop.columns = [\"st\", \"en\", \"popularity\"]\n",
    "undirected_pop\n"
   ]
  },
  {
   "cell_type": "code",
   "execution_count": 97,
   "metadata": {},
   "outputs": [],
   "source": [
    "undirected_pop.to_csv(\n",
    "    \"../data/processed/connections_csv.csv\",\n",
    "    columns=[\"st\", \"en\", \"popularity\"],\n",
    "    index=False,\n",
    ")\n"
   ]
  },
  {
   "cell_type": "code",
   "execution_count": 96,
   "metadata": {},
   "outputs": [
    {
     "data": {
      "text/plain": [
       "28900960.5"
      ]
     },
     "execution_count": 96,
     "metadata": {},
     "output_type": "execute_result"
    }
   ],
   "source": [
    "undirected_pop.popularity.sum() / 2\n"
   ]
  },
  {
   "cell_type": "markdown",
   "metadata": {},
   "source": [
    "We will now reassign the start and end, so that we can seperately plot them later"
   ]
  }
 ],
 "metadata": {
  "interpreter": {
   "hash": "be2a6025bae76a7516ab88c2f31b9863ea4cd93e966fcc072327ea369c90eae2"
  },
  "kernelspec": {
   "display_name": "Python 3",
   "language": "python",
   "name": "python3"
  },
  "language_info": {
   "codemirror_mode": {
    "name": "ipython",
    "version": 3
   },
   "file_extension": ".py",
   "mimetype": "text/x-python",
   "name": "python",
   "nbconvert_exporter": "python",
   "pygments_lexer": "ipython3",
   "version": "3.10.0"
  },
  "widgets": {
   "application/vnd.jupyter.widget-state+json": {
    "state": {},
    "version_major": 2,
    "version_minor": 0
   }
  }
 },
 "nbformat": 4,
 "nbformat_minor": 4
}
