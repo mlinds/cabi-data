{
 "cells": [
  {
   "cell_type": "code",
   "execution_count": 1,
   "metadata": {},
   "outputs": [
    {
     "ename": "ModuleNotFoundError",
     "evalue": "No module named 'cabi'",
     "output_type": "error",
     "traceback": [
      "\u001b[0;31m---------------------------------------------------------------------------\u001b[0m",
      "\u001b[0;31mModuleNotFoundError\u001b[0m                       Traceback (most recent call last)",
      "Input \u001b[0;32mIn [1]\u001b[0m, in \u001b[0;36m<module>\u001b[0;34m\u001b[0m\n\u001b[1;32m      1\u001b[0m \u001b[38;5;28;01mimport\u001b[39;00m \u001b[38;5;21;01mpandas\u001b[39;00m \u001b[38;5;28;01mas\u001b[39;00m \u001b[38;5;21;01mpd\u001b[39;00m\n\u001b[1;32m      3\u001b[0m \u001b[38;5;28;01mimport\u001b[39;00m \u001b[38;5;21;01mgeopandas\u001b[39;00m \u001b[38;5;28;01mas\u001b[39;00m \u001b[38;5;21;01mgpd\u001b[39;00m\n\u001b[0;32m----> 5\u001b[0m \u001b[38;5;28;01mfrom\u001b[39;00m \u001b[38;5;21;01mcabi\u001b[39;00m \u001b[38;5;28;01mimport\u001b[39;00m (\n\u001b[1;32m      6\u001b[0m     return_trip_datatable,\n\u001b[1;32m      7\u001b[0m     load_stations,\n\u001b[1;32m      8\u001b[0m     make_trip_geometry,\n\u001b[1;32m      9\u001b[0m     find_station_geo,\n\u001b[1;32m     10\u001b[0m )\n",
      "\u001b[0;31mModuleNotFoundError\u001b[0m: No module named 'cabi'"
     ]
    }
   ],
   "source": [
    "import pandas as pd\n",
    "\n",
    "import geopandas as gpd\n",
    "\n",
    "from cabi import (\n",
    "    return_trip_datatable,\n",
    "    load_stations,\n",
    "    make_trip_geometry,\n",
    "    find_station_geo,\n",
    ")"
   ]
  },
  {
   "cell_type": "code",
   "execution_count": 4,
   "metadata": {},
   "outputs": [
    {
     "data": {
      "text/html": [
       "<div>\n",
       "<style scoped>\n",
       "    .dataframe tbody tr th:only-of-type {\n",
       "        vertical-align: middle;\n",
       "    }\n",
       "\n",
       "    .dataframe tbody tr th {\n",
       "        vertical-align: top;\n",
       "    }\n",
       "\n",
       "    .dataframe thead th {\n",
       "        text-align: right;\n",
       "    }\n",
       "</style>\n",
       "<table border=\"1\" class=\"dataframe\">\n",
       "  <thead>\n",
       "    <tr style=\"text-align: right;\">\n",
       "      <th></th>\n",
       "      <th>electric_bike_surcharge_waiver</th>\n",
       "      <th>capacity</th>\n",
       "      <th>lon</th>\n",
       "      <th>eightd_station_services</th>\n",
       "      <th>short_name</th>\n",
       "      <th>external_id</th>\n",
       "      <th>legacy_id</th>\n",
       "      <th>lat</th>\n",
       "      <th>rental_uris</th>\n",
       "      <th>name</th>\n",
       "      <th>has_kiosk</th>\n",
       "      <th>rental_methods</th>\n",
       "      <th>station_type</th>\n",
       "      <th>eightd_has_key_dispenser</th>\n",
       "      <th>station_id</th>\n",
       "      <th>region_id</th>\n",
       "      <th>geometry</th>\n",
       "    </tr>\n",
       "  </thead>\n",
       "  <tbody>\n",
       "    <tr>\n",
       "      <th>0</th>\n",
       "      <td>False</td>\n",
       "      <td>15</td>\n",
       "      <td>-77.053230</td>\n",
       "      <td>[]</td>\n",
       "      <td>31000</td>\n",
       "      <td>082469cc-1f3f-11e7-bf6b-3863bb334450</td>\n",
       "      <td>1</td>\n",
       "      <td>38.858971</td>\n",
       "      <td>{'ios': 'https://dc.lft.to/lastmile_qr_scan', ...</td>\n",
       "      <td>Eads St &amp; 15th St S</td>\n",
       "      <td>True</td>\n",
       "      <td>[CREDITCARD, KEY]</td>\n",
       "      <td>classic</td>\n",
       "      <td>False</td>\n",
       "      <td>1</td>\n",
       "      <td>41</td>\n",
       "      <td>POINT (38.85897 -77.05323)</td>\n",
       "    </tr>\n",
       "    <tr>\n",
       "      <th>1</th>\n",
       "      <td>False</td>\n",
       "      <td>17</td>\n",
       "      <td>-77.049232</td>\n",
       "      <td>[]</td>\n",
       "      <td>31002</td>\n",
       "      <td>08246c35-1f3f-11e7-bf6b-3863bb334450</td>\n",
       "      <td>3</td>\n",
       "      <td>38.856425</td>\n",
       "      <td>{'ios': 'https://dc.lft.to/lastmile_qr_scan', ...</td>\n",
       "      <td>Crystal Dr &amp; 20th St S</td>\n",
       "      <td>True</td>\n",
       "      <td>[CREDITCARD, KEY]</td>\n",
       "      <td>classic</td>\n",
       "      <td>False</td>\n",
       "      <td>3</td>\n",
       "      <td>41</td>\n",
       "      <td>POINT (38.85643 -77.04923)</td>\n",
       "    </tr>\n",
       "    <tr>\n",
       "      <th>2</th>\n",
       "      <td>False</td>\n",
       "      <td>16</td>\n",
       "      <td>-77.049417</td>\n",
       "      <td>[]</td>\n",
       "      <td>31003</td>\n",
       "      <td>08246cd5-1f3f-11e7-bf6b-3863bb334450</td>\n",
       "      <td>4</td>\n",
       "      <td>38.861056</td>\n",
       "      <td>{'ios': 'https://dc.lft.to/lastmile_qr_scan', ...</td>\n",
       "      <td>Crystal Dr &amp; 15th St S</td>\n",
       "      <td>True</td>\n",
       "      <td>[CREDITCARD, KEY]</td>\n",
       "      <td>classic</td>\n",
       "      <td>False</td>\n",
       "      <td>4</td>\n",
       "      <td>41</td>\n",
       "      <td>POINT (38.86106 -77.04942)</td>\n",
       "    </tr>\n",
       "    <tr>\n",
       "      <th>3</th>\n",
       "      <td>False</td>\n",
       "      <td>12</td>\n",
       "      <td>-77.059490</td>\n",
       "      <td>[]</td>\n",
       "      <td>31004</td>\n",
       "      <td>08246d68-1f3f-11e7-bf6b-3863bb334450</td>\n",
       "      <td>5</td>\n",
       "      <td>38.857866</td>\n",
       "      <td>{'ios': 'https://dc.lft.to/lastmile_qr_scan', ...</td>\n",
       "      <td>Aurora Hills Cmty Ctr / 18th St &amp; S Hayes St</td>\n",
       "      <td>True</td>\n",
       "      <td>[CREDITCARD, KEY]</td>\n",
       "      <td>classic</td>\n",
       "      <td>False</td>\n",
       "      <td>5</td>\n",
       "      <td>41</td>\n",
       "      <td>POINT (38.85787 -77.05949)</td>\n",
       "    </tr>\n",
       "    <tr>\n",
       "      <th>4</th>\n",
       "      <td>False</td>\n",
       "      <td>19</td>\n",
       "      <td>-77.059936</td>\n",
       "      <td>[]</td>\n",
       "      <td>31005</td>\n",
       "      <td>08246df5-1f3f-11e7-bf6b-3863bb334450</td>\n",
       "      <td>6</td>\n",
       "      <td>38.862303</td>\n",
       "      <td>{'ios': 'https://dc.lft.to/lastmile_qr_scan', ...</td>\n",
       "      <td>Pentagon City Metro / 12th St &amp; S Hayes St</td>\n",
       "      <td>True</td>\n",
       "      <td>[CREDITCARD, KEY]</td>\n",
       "      <td>classic</td>\n",
       "      <td>False</td>\n",
       "      <td>6</td>\n",
       "      <td>41</td>\n",
       "      <td>POINT (38.86230 -77.05994)</td>\n",
       "    </tr>\n",
       "  </tbody>\n",
       "</table>\n",
       "</div>"
      ],
      "text/plain": [
       "   electric_bike_surcharge_waiver  capacity        lon  \\\n",
       "0                           False        15 -77.053230   \n",
       "1                           False        17 -77.049232   \n",
       "2                           False        16 -77.049417   \n",
       "3                           False        12 -77.059490   \n",
       "4                           False        19 -77.059936   \n",
       "\n",
       "  eightd_station_services  short_name                           external_id  \\\n",
       "0                      []       31000  082469cc-1f3f-11e7-bf6b-3863bb334450   \n",
       "1                      []       31002  08246c35-1f3f-11e7-bf6b-3863bb334450   \n",
       "2                      []       31003  08246cd5-1f3f-11e7-bf6b-3863bb334450   \n",
       "3                      []       31004  08246d68-1f3f-11e7-bf6b-3863bb334450   \n",
       "4                      []       31005  08246df5-1f3f-11e7-bf6b-3863bb334450   \n",
       "\n",
       "  legacy_id        lat                                        rental_uris  \\\n",
       "0         1  38.858971  {'ios': 'https://dc.lft.to/lastmile_qr_scan', ...   \n",
       "1         3  38.856425  {'ios': 'https://dc.lft.to/lastmile_qr_scan', ...   \n",
       "2         4  38.861056  {'ios': 'https://dc.lft.to/lastmile_qr_scan', ...   \n",
       "3         5  38.857866  {'ios': 'https://dc.lft.to/lastmile_qr_scan', ...   \n",
       "4         6  38.862303  {'ios': 'https://dc.lft.to/lastmile_qr_scan', ...   \n",
       "\n",
       "                                           name  has_kiosk     rental_methods  \\\n",
       "0                           Eads St & 15th St S       True  [CREDITCARD, KEY]   \n",
       "1                        Crystal Dr & 20th St S       True  [CREDITCARD, KEY]   \n",
       "2                        Crystal Dr & 15th St S       True  [CREDITCARD, KEY]   \n",
       "3  Aurora Hills Cmty Ctr / 18th St & S Hayes St       True  [CREDITCARD, KEY]   \n",
       "4    Pentagon City Metro / 12th St & S Hayes St       True  [CREDITCARD, KEY]   \n",
       "\n",
       "  station_type  eightd_has_key_dispenser station_id region_id  \\\n",
       "0      classic                     False          1        41   \n",
       "1      classic                     False          3        41   \n",
       "2      classic                     False          4        41   \n",
       "3      classic                     False          5        41   \n",
       "4      classic                     False          6        41   \n",
       "\n",
       "                     geometry  \n",
       "0  POINT (38.85897 -77.05323)  \n",
       "1  POINT (38.85643 -77.04923)  \n",
       "2  POINT (38.86106 -77.04942)  \n",
       "3  POINT (38.85787 -77.05949)  \n",
       "4  POINT (38.86230 -77.05994)  "
      ]
     },
     "execution_count": 4,
     "metadata": {},
     "output_type": "execute_result"
    }
   ],
   "source": [
    "station_gdf = load_stations()\n",
    "# we need a non geopandas verion of this table to avoid overhead due to calls to geometry functions\n",
    "a = pd.DataFrame(station_gdf)\n",
    "a.head()"
   ]
  },
  {
   "cell_type": "code",
   "execution_count": 4,
   "metadata": {},
   "outputs": [],
   "source": [
    "data = return_trip_datatable()"
   ]
  },
  {
   "cell_type": "code",
   "execution_count": 5,
   "metadata": {},
   "outputs": [],
   "source": [
    "triptime = data.ended_at - data.started_at\n",
    "data = data.assign(triptime=triptime)"
   ]
  },
  {
   "cell_type": "code",
   "execution_count": 25,
   "metadata": {},
   "outputs": [],
   "source": [
    "# find the number of trips between all station pairs\n",
    "route_popularity = (\n",
    "    pd.DataFrame(\n",
    "        # select our columns of interest, drop the NA values, and get a series of the unique combos\n",
    "        data[[\"start_station_id\", \"end_station_id\"]]\n",
    "        .dropna()\n",
    "        .value_counts()\n",
    "        # flatten the multiindex series, covert the types, and fix the column name\n",
    "    )\n",
    "    .reset_index()\n",
    "    .rename(columns={0: \"popularity\"})\n",
    ")"
   ]
  },
  {
   "cell_type": "code",
   "execution_count": 1,
   "metadata": {},
   "outputs": [
    {
     "ename": "NameError",
     "evalue": "name 'route_popularity' is not defined",
     "output_type": "error",
     "traceback": [
      "\u001b[1;31m---------------------------------------------------------------------------\u001b[0m",
      "\u001b[1;31mNameError\u001b[0m                                 Traceback (most recent call last)",
      "\u001b[1;32m~\\AppData\\Local\\Temp/ipykernel_9512/3744528967.py\u001b[0m in \u001b[0;36m<module>\u001b[1;34m\u001b[0m\n\u001b[0;32m      1\u001b[0m \u001b[1;31m#  remove the self-trips\u001b[0m\u001b[1;33m\u001b[0m\u001b[1;33m\u001b[0m\u001b[0m\n\u001b[1;32m----> 2\u001b[1;33m \u001b[0mitems_pre\u001b[0m \u001b[1;33m=\u001b[0m \u001b[0mlen\u001b[0m\u001b[1;33m(\u001b[0m\u001b[0mroute_popularity\u001b[0m\u001b[1;33m)\u001b[0m\u001b[1;33m\u001b[0m\u001b[1;33m\u001b[0m\u001b[0m\n\u001b[0m\u001b[0;32m      3\u001b[0m \u001b[0mroute_popularity\u001b[0m \u001b[1;33m=\u001b[0m \u001b[0mroute_popularity\u001b[0m\u001b[1;33m[\u001b[0m\u001b[0mroute_popularity\u001b[0m\u001b[1;33m.\u001b[0m\u001b[0mstart_station_id\u001b[0m\u001b[1;33m!=\u001b[0m\u001b[0mroute_popularity\u001b[0m\u001b[1;33m.\u001b[0m\u001b[0mend_station_id\u001b[0m\u001b[1;33m]\u001b[0m\u001b[1;33m\u001b[0m\u001b[1;33m\u001b[0m\u001b[0m\n\u001b[0;32m      4\u001b[0m \u001b[0mitems_post\u001b[0m \u001b[1;33m=\u001b[0m \u001b[0mlen\u001b[0m\u001b[1;33m(\u001b[0m\u001b[0mroute_popularity\u001b[0m\u001b[1;33m)\u001b[0m\u001b[1;33m\u001b[0m\u001b[1;33m\u001b[0m\u001b[0m\n\u001b[0;32m      5\u001b[0m \u001b[0mprint\u001b[0m\u001b[1;33m(\u001b[0m\u001b[1;34mf'{items_pre-items_post} self-trips removed'\u001b[0m\u001b[1;33m)\u001b[0m\u001b[1;33m\u001b[0m\u001b[1;33m\u001b[0m\u001b[0m\n",
      "\u001b[1;31mNameError\u001b[0m: name 'route_popularity' is not defined"
     ]
    }
   ],
   "source": [
    "#  remove the self-trips\n",
    "items_pre = len(route_popularity)\n",
    "route_popularity = route_popularity[\n",
    "    route_popularity.start_station_id != route_popularity.end_station_id\n",
    "]\n",
    "items_post = len(route_popularity)\n",
    "print(f\"{items_pre-items_post} self-trips removed\")\n",
    "# remove where the start or stop is zero\n",
    "items_pre = len(route_popularity)\n",
    "route_popularity = route_popularity[route_popularity.start_station_id != 0]\n",
    "route_popularity = route_popularity[route_popularity.end_station_id != 0]\n",
    "items_post = len(route_popularity)\n",
    "print(f\"{items_pre-items_post} rides with missing start or end removed\")\n",
    "# remove combintions including a station that no longer exists\n",
    "items_pre = len(route_popularity)\n",
    "route_popularity = route_popularity[\n",
    "    route_popularity.start_station_id.map(lambda x: x in list(a.short_name.values))\n",
    "]\n",
    "route_popularity = route_popularity[\n",
    "    route_popularity.end_station_id.map(lambda x: x in list(a.short_name.values))\n",
    "]\n",
    "items_post = len(route_popularity)\n",
    "print(\n",
    "    f\"{items_pre-items_post} station pairs removed due to stations not being in current table\"\n",
    ")\n",
    "print(f\"{items_post} items total remaining\")"
   ]
  },
  {
   "cell_type": "code",
   "execution_count": 30,
   "metadata": {},
   "outputs": [],
   "source": [
    "geometry = [\n",
    "    make_trip_geometry(x, y)\n",
    "    for x, y in zip(route_popularity.start_station_id, route_popularity.end_station_id)\n",
    "]"
   ]
  },
  {
   "cell_type": "code",
   "execution_count": 35,
   "metadata": {},
   "outputs": [],
   "source": [
    "# add a geometry attribute\n",
    "gdf_trips = gpd.GeoDataFrame(route_popularity, geometry=geometry, crs=\"EPSG:4326\")"
   ]
  },
  {
   "cell_type": "code",
   "execution_count": 37,
   "metadata": {},
   "outputs": [],
   "source": [
    "# reproject in epgs 26985 to calculate length\n",
    "lens = gdf_trips.to_crs(epsg=26985).length\n",
    "# add length as an column\n",
    "edge_gdf = gdf_trips.assign(length=lens)"
   ]
  },
  {
   "cell_type": "code",
   "execution_count": 51,
   "metadata": {},
   "outputs": [],
   "source": [
    "import rasterio\n",
    "import osmnx"
   ]
  },
  {
   "cell_type": "code",
   "execution_count": 62,
   "metadata": {},
   "outputs": [],
   "source": [
    "node_gdf = a.rename({\"short_name\": \"osmid\", \"lat\": \"x\", \"lon\": \"y\"}, axis=1).set_index(\n",
    "    \"osmid\", drop=True\n",
    ")"
   ]
  },
  {
   "cell_type": "code",
   "execution_count": 63,
   "metadata": {},
   "outputs": [],
   "source": [
    "edge_gdf1 = (\n",
    "    edge_gdf.assign(key=0)\n",
    "    .assign(length=lens)\n",
    "    .rename({\"start_station_id\": \"u\", \"end_station_id\": \"v\"}, axis=1)\n",
    "    .set_index([\"u\", \"v\", \"key\"])\n",
    "    .sort_values(\"length\", ascending=False)\n",
    ")"
   ]
  },
  {
   "cell_type": "code",
   "execution_count": 64,
   "metadata": {},
   "outputs": [
    {
     "ename": "AttributeError",
     "evalue": "'Series' object has no attribute 'x'",
     "output_type": "error",
     "traceback": [
      "\u001b[1;31m---------------------------------------------------------------------------\u001b[0m",
      "\u001b[1;31mAttributeError\u001b[0m                            Traceback (most recent call last)",
      "\u001b[1;32m~\\AppData\\Local\\Temp/ipykernel_15760/3155392092.py\u001b[0m in \u001b[0;36m<module>\u001b[1;34m\u001b[0m\n\u001b[1;32m----> 1\u001b[1;33m G = osmnx.utils_graph.graph_from_gdfs(\n\u001b[0m\u001b[0;32m      2\u001b[0m     \u001b[0mnode_gdf\u001b[0m\u001b[1;33m,\u001b[0m\u001b[1;33m\u001b[0m\u001b[1;33m\u001b[0m\u001b[0m\n\u001b[0;32m      3\u001b[0m     \u001b[0medge_gdf1\u001b[0m\u001b[1;33m,\u001b[0m\u001b[1;33m\u001b[0m\u001b[1;33m\u001b[0m\u001b[0m\n\u001b[0;32m      4\u001b[0m )\n",
      "\u001b[1;32m~\\anaconda3\\envs\\BPD4a\\lib\\site-packages\\osmnx\\utils_graph.py\u001b[0m in \u001b[0;36mgraph_from_gdfs\u001b[1;34m(gdf_nodes, gdf_edges, graph_attrs)\u001b[0m\n\u001b[0;32m    147\u001b[0m     \u001b[1;32mif\u001b[0m \u001b[0mhasattr\u001b[0m\u001b[1;33m(\u001b[0m\u001b[0mgdf_nodes\u001b[0m\u001b[1;33m,\u001b[0m \u001b[1;34m\"geometry\"\u001b[0m\u001b[1;33m)\u001b[0m\u001b[1;33m:\u001b[0m\u001b[1;33m\u001b[0m\u001b[1;33m\u001b[0m\u001b[0m\n\u001b[0;32m    148\u001b[0m         \u001b[1;32mtry\u001b[0m\u001b[1;33m:\u001b[0m\u001b[1;33m\u001b[0m\u001b[1;33m\u001b[0m\u001b[0m\n\u001b[1;32m--> 149\u001b[1;33m             \u001b[0mall_x_match\u001b[0m \u001b[1;33m=\u001b[0m \u001b[1;33m(\u001b[0m\u001b[0mgdf_nodes\u001b[0m\u001b[1;33m.\u001b[0m\u001b[0mgeometry\u001b[0m\u001b[1;33m.\u001b[0m\u001b[0mx\u001b[0m \u001b[1;33m==\u001b[0m \u001b[0mgdf_nodes\u001b[0m\u001b[1;33m[\u001b[0m\u001b[1;34m\"x\"\u001b[0m\u001b[1;33m]\u001b[0m\u001b[1;33m)\u001b[0m\u001b[1;33m.\u001b[0m\u001b[0mall\u001b[0m\u001b[1;33m(\u001b[0m\u001b[1;33m)\u001b[0m\u001b[1;33m\u001b[0m\u001b[1;33m\u001b[0m\u001b[0m\n\u001b[0m\u001b[0;32m    150\u001b[0m             \u001b[0mall_y_match\u001b[0m \u001b[1;33m=\u001b[0m \u001b[1;33m(\u001b[0m\u001b[0mgdf_nodes\u001b[0m\u001b[1;33m.\u001b[0m\u001b[0mgeometry\u001b[0m\u001b[1;33m.\u001b[0m\u001b[0my\u001b[0m \u001b[1;33m==\u001b[0m \u001b[0mgdf_nodes\u001b[0m\u001b[1;33m[\u001b[0m\u001b[1;34m\"y\"\u001b[0m\u001b[1;33m]\u001b[0m\u001b[1;33m)\u001b[0m\u001b[1;33m.\u001b[0m\u001b[0mall\u001b[0m\u001b[1;33m(\u001b[0m\u001b[1;33m)\u001b[0m\u001b[1;33m\u001b[0m\u001b[1;33m\u001b[0m\u001b[0m\n\u001b[0;32m    151\u001b[0m             \u001b[1;32massert\u001b[0m \u001b[0mall_x_match\u001b[0m \u001b[1;32mand\u001b[0m \u001b[0mall_y_match\u001b[0m\u001b[1;33m\u001b[0m\u001b[1;33m\u001b[0m\u001b[0m\n",
      "\u001b[1;32m~\\anaconda3\\envs\\BPD4a\\lib\\site-packages\\pandas\\core\\generic.py\u001b[0m in \u001b[0;36m__getattr__\u001b[1;34m(self, name)\u001b[0m\n\u001b[0;32m   5485\u001b[0m         ):\n\u001b[0;32m   5486\u001b[0m             \u001b[1;32mreturn\u001b[0m \u001b[0mself\u001b[0m\u001b[1;33m[\u001b[0m\u001b[0mname\u001b[0m\u001b[1;33m]\u001b[0m\u001b[1;33m\u001b[0m\u001b[1;33m\u001b[0m\u001b[0m\n\u001b[1;32m-> 5487\u001b[1;33m         \u001b[1;32mreturn\u001b[0m \u001b[0mobject\u001b[0m\u001b[1;33m.\u001b[0m\u001b[0m__getattribute__\u001b[0m\u001b[1;33m(\u001b[0m\u001b[0mself\u001b[0m\u001b[1;33m,\u001b[0m \u001b[0mname\u001b[0m\u001b[1;33m)\u001b[0m\u001b[1;33m\u001b[0m\u001b[1;33m\u001b[0m\u001b[0m\n\u001b[0m\u001b[0;32m   5488\u001b[0m \u001b[1;33m\u001b[0m\u001b[0m\n\u001b[0;32m   5489\u001b[0m     \u001b[1;32mdef\u001b[0m \u001b[0m__setattr__\u001b[0m\u001b[1;33m(\u001b[0m\u001b[0mself\u001b[0m\u001b[1;33m,\u001b[0m \u001b[0mname\u001b[0m\u001b[1;33m:\u001b[0m \u001b[0mstr\u001b[0m\u001b[1;33m,\u001b[0m \u001b[0mvalue\u001b[0m\u001b[1;33m)\u001b[0m \u001b[1;33m->\u001b[0m \u001b[1;32mNone\u001b[0m\u001b[1;33m:\u001b[0m\u001b[1;33m\u001b[0m\u001b[1;33m\u001b[0m\u001b[0m\n",
      "\u001b[1;31mAttributeError\u001b[0m: 'Series' object has no attribute 'x'"
     ]
    }
   ],
   "source": [
    "G = osmnx.utils_graph.graph_from_gdfs(\n",
    "    node_gdf,\n",
    "    edge_gdf1,\n",
    ")"
   ]
  },
  {
   "cell_type": "code",
   "execution_count": null,
   "metadata": {},
   "outputs": [],
   "source": []
  }
 ],
 "metadata": {
  "interpreter": {
   "hash": "5e58f0493970c85668badbc5bf106a4a788c4b99d38880c90ea927a02d72e3dc"
  },
  "kernelspec": {
   "display_name": "Python 3.10.0 64-bit ('base': conda)",
   "language": "python",
   "name": "python3"
  },
  "language_info": {
   "codemirror_mode": {
    "name": "ipython",
    "version": 3
   },
   "file_extension": ".py",
   "mimetype": "text/x-python",
   "name": "python",
   "nbconvert_exporter": "python",
   "pygments_lexer": "ipython3",
   "version": "3.9.7"
  },
  "orig_nbformat": 4
 },
 "nbformat": 4,
 "nbformat_minor": 2
}
